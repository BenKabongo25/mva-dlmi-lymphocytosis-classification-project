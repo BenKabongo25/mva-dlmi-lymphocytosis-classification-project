{
 "cells": [
  {
   "cell_type": "markdown",
   "metadata": {},
   "source": [
    "# DLMI - Lymphocytosis classification\n",
    "## One-to-one image model: CNN"
   ]
  },
  {
   "cell_type": "code",
   "execution_count": 1,
   "metadata": {},
   "outputs": [],
   "source": [
    "import matplotlib.pyplot as plt\n",
    "import numpy as np\n",
    "import pandas as pd\n",
    "import sys\n",
    "import torch\n",
    "import torch.nn as nn\n",
    "import torch.nn.functional as F\n",
    "from sklearn import metrics, model_selection\n",
    "from torch.utils.data import DataLoader\n",
    "from utils_pretrains import *"
   ]
  },
  {
   "cell_type": "code",
   "execution_count": 2,
   "metadata": {},
   "outputs": [
    {
     "name": "stdout",
     "output_type": "stream",
     "text": [
      "cpu\n"
     ]
    }
   ],
   "source": [
    "device = torch.device(\"cuda\" if torch.cuda.is_available() else \"cpu\")\n",
    "print(device)"
   ]
  },
  {
   "cell_type": "code",
   "execution_count": 3,
   "metadata": {},
   "outputs": [],
   "source": [
    "data_dir = \"../../data/dlmi-lymphocytosis-classification/\"\n",
    "train_dir = data_dir + \"trainset/\"\n",
    "test_dir = data_dir + \"testset/\""
   ]
  },
  {
   "cell_type": "code",
   "execution_count": 4,
   "metadata": {},
   "outputs": [],
   "source": [
    "train_val_images = load_images(train_dir)\n",
    "test_images = load_images(test_dir)"
   ]
  },
  {
   "cell_type": "code",
   "execution_count": 5,
   "metadata": {},
   "outputs": [],
   "source": [
    "trainset_true_df = pd.read_csv(data_dir + \"trainset/trainset_true.csv\")\n",
    "labels_dict = dict(zip(trainset_true_df[\"ID\"], trainset_true_df[\"LABEL\"]))"
   ]
  },
  {
   "cell_type": "code",
   "execution_count": 6,
   "metadata": {},
   "outputs": [
    {
     "data": {
      "text/plain": [
       "(9935, 3518)"
      ]
     },
     "execution_count": 6,
     "metadata": {},
     "output_type": "execute_result"
    }
   ],
   "source": [
    "id_train_val = list(train_val_images.keys())\n",
    "id_train, id_val = model_selection.train_test_split(id_train_val, test_size=0.25)\n",
    "\n",
    "train_images = {id: train_val_images[id] for id in id_train}\n",
    "val_images = {id: train_val_images[id] for id in id_val}\n",
    "\n",
    "X_train, y_train = assign_labels(train_images, labels_dict)\n",
    "X_val, y_val = assign_labels(val_images, labels_dict)\n",
    "len(X_train), len(X_val)"
   ]
  },
  {
   "cell_type": "code",
   "execution_count": 7,
   "metadata": {},
   "outputs": [],
   "source": [
    "transform_function = lambda x: x.reshape(3, x.shape[0], x.shape[1])"
   ]
  },
  {
   "cell_type": "code",
   "execution_count": 8,
   "metadata": {},
   "outputs": [],
   "source": [
    "batch_size = 32\n",
    "train_dataset = ImageLabelDataset(X_train, y_train, transform_function)\n",
    "test_dataset = ImageLabelDataset(X_val, y_val, transform_function)\n",
    "train_dataloader = DataLoader(train_dataset, batch_size=batch_size, shuffle=True)\n",
    "test_dataloader = DataLoader(test_dataset, batch_size=batch_size, shuffle=False)"
   ]
  },
  {
   "cell_type": "code",
   "execution_count": null,
   "metadata": {},
   "outputs": [],
   "source": [
    "class Classifier(nn.Module):\n",
    "\n",
    "    def __init__(\n",
    "        self,\n",
    "        d_model=2048,\n",
    "        num_classes=2\n",
    "    ):\n",
    "        super().__init__()\n",
    "        self.d_model = d_model\n",
    "        self.head = nn.Sequential(\n",
    "            nn.Linear(d_model, 256),\n",
    "            nn.ReLU(),\n",
    "            nn.Linear(256, 64),\n",
    "            nn.ReLU(),\n",
    "            nn.Linear(64, num_classes)\n",
    "        )\n",
    "\n",
    "    def forward(self, x):\n",
    "        x = self.head(x)\n",
    "        return x"
   ]
  },
  {
   "cell_type": "code",
   "execution_count": 10,
   "metadata": {},
   "outputs": [
    {
     "name": "stdout",
     "output_type": "stream",
     "text": [
      "[Epoch 1 / 50]\n",
      "\ttrain loss = 0.95583 acc = 0.78822 bacc = 0.50031\n",
      "\ttest loss = 0.40020 acc = 0.83513 bacc = 0.50000\n",
      "[Epoch 2 / 50]\n",
      "\ttrain loss = 0.47758 acc = 0.79748 bacc = 0.50000\n",
      "\ttest loss = 0.40603 acc = 0.83513 bacc = 0.50000\n",
      "[Epoch 3 / 50]\n",
      "\ttrain loss = 0.47718 acc = 0.79748 bacc = 0.50000\n",
      "\ttest loss = 0.49451 acc = 0.83513 bacc = 0.50000\n",
      "[Epoch 4 / 50]\n",
      "\ttrain loss = 0.46058 acc = 0.79748 bacc = 0.50000\n",
      "\ttest loss = 0.45210 acc = 0.83513 bacc = 0.50000\n",
      "[Epoch 5 / 50]\n",
      "\ttrain loss = 0.44143 acc = 0.79748 bacc = 0.50000\n",
      "\ttest loss = 0.49900 acc = 0.83513 bacc = 0.50000\n",
      "[Epoch 6 / 50]\n",
      "\ttrain loss = 0.43615 acc = 0.79748 bacc = 0.50000\n",
      "\ttest loss = 0.37016 acc = 0.83513 bacc = 0.50000\n",
      "[Epoch 7 / 50]\n",
      "\ttrain loss = 0.42279 acc = 0.79889 bacc = 0.54297\n",
      "\ttest loss = 0.44898 acc = 0.83513 bacc = 0.50000\n",
      "[Epoch 8 / 50]\n",
      "\ttrain loss = 0.40118 acc = 0.81470 bacc = 0.61962\n",
      "\ttest loss = 0.41159 acc = 0.79960 bacc = 0.76586\n",
      "[Epoch 9 / 50]\n",
      "\ttrain loss = 0.39600 acc = 0.82426 bacc = 0.66288\n",
      "\ttest loss = 0.35448 acc = 0.84082 bacc = 0.52070\n",
      "[Epoch 10 / 50]\n",
      "\ttrain loss = 0.38820 acc = 0.82738 bacc = 0.67003\n",
      "\ttest loss = 0.43584 acc = 0.83627 bacc = 0.50552\n",
      "[Epoch 11 / 50]\n",
      "\ttrain loss = 0.37460 acc = 0.83583 bacc = 0.69016\n",
      "\ttest loss = 0.35124 acc = 0.84764 bacc = 0.55938\n"
     ]
    }
   ],
   "source": [
    "image_encoder = Resnet18Encoder()\n",
    "model = Classifier(d_model=).to(device)\n",
    "lr = 1e-2\n",
    "optimizer = torch.optim.Adam(model.parameters(), lr=lr) \n",
    "loss_fn = nn.CrossEntropyLoss()\n",
    "\n",
    "n_epochs = 50\n",
    "trainer(\n",
    "    model, image_encoder, optimizer, loss_fn, train_dataloader, test_dataloader, n_epochs,\n",
    "    device=device, verbose=True, verbose_every=1, plot=True\n",
    ")"
   ]
  },
  {
   "cell_type": "code",
   "execution_count": null,
   "metadata": {},
   "outputs": [],
   "source": [
    "y_true_val = np.array([labels_dict[p] for p in val_images.keys()])\n",
    "y_pred_min = predict_all(\n",
    "    model, val_images, transform_function, batch_size=batch_size, \n",
    "    prediction_aggregator=PredictionAggregator.MIN, device=device\n",
    ")\n",
    "y_pred_max = predict_all(\n",
    "    model, val_images, transform_function, batch_size=batch_size, \n",
    "    prediction_aggregator=PredictionAggregator.MAX, device=device\n",
    ")\n",
    "y_pred_mean = predict_all(\n",
    "    model, val_images, transform_function, batch_size=batch_size, \n",
    "    prediction_aggregator=PredictionAggregator.MEAN, device=device\n",
    ")"
   ]
  },
  {
   "cell_type": "code",
   "execution_count": null,
   "metadata": {},
   "outputs": [
    {
     "name": "stdout",
     "output_type": "stream",
     "text": [
      "acc = 0.71 bal. acc = 0.50\n"
     ]
    }
   ],
   "source": [
    "acc = metrics.accuracy_score(y_true_val, y_pred_min)\n",
    "balanced_acc = metrics.balanced_accuracy_score(y_true_val, y_pred_min)\n",
    "print(f\"Min acc = {acc:.2f} bal. acc = {balanced_acc:.2f}\")\n",
    "acc = metrics.accuracy_score(y_true_val, y_pred_max)\n",
    "balanced_acc = metrics.balanced_accuracy_score(y_true_val, y_pred_max)\n",
    "print(f\"Max acc = {acc:.2f} bal. acc = {balanced_acc:.2f}\")\n",
    "acc = metrics.accuracy_score(y_true_val, y_pred_mean)\n",
    "balanced_acc = metrics.balanced_accuracy_score(y_true_val, y_pred_mean)\n",
    "print(f\"Mean acc = {acc:.2f} bal. acc = {balanced_acc:.2f}\")"
   ]
  },
  {
   "cell_type": "code",
   "execution_count": null,
   "metadata": {},
   "outputs": [],
   "source": []
  }
 ],
 "metadata": {
  "kernelspec": {
   "display_name": "Python 3.11.0 64-bit",
   "language": "python",
   "name": "python3"
  },
  "language_info": {
   "codemirror_mode": {
    "name": "ipython",
    "version": 3
   },
   "file_extension": ".py",
   "mimetype": "text/x-python",
   "name": "python",
   "nbconvert_exporter": "python",
   "pygments_lexer": "ipython3",
   "version": "3.11.0"
  },
  "orig_nbformat": 4,
  "vscode": {
   "interpreter": {
    "hash": "aee8b7b246df8f9039afb4144a1f6fd8d2ca17a180786b69acc140d282b71a49"
   }
  }
 },
 "nbformat": 4,
 "nbformat_minor": 2
}
