{
 "cells": [
  {
   "cell_type": "markdown",
   "metadata": {},
   "source": [
    "# DLMI - Lymphocytosis classification\n",
    "## Decisions Trees and Random Forest"
   ]
  },
  {
   "cell_type": "code",
   "execution_count": 1,
   "metadata": {},
   "outputs": [],
   "source": [
    "import matplotlib.pyplot as plt\n",
    "import numpy as np\n",
    "import pandas as pd\n",
    "import warnings\n",
    "\n",
    "from sklearn import (\n",
    "    tree,\n",
    "    ensemble,\n",
    "    metrics,\n",
    "    model_selection\n",
    ")\n",
    "\n",
    "warnings.filterwarnings(action=\"ignore\")\n",
    "plt.style.use(\"seaborn-whitegrid\")\n",
    "np.random.seed(42)"
   ]
  },
  {
   "cell_type": "code",
   "execution_count": 2,
   "metadata": {},
   "outputs": [],
   "source": [
    "data_dir = \"../../data/dlmi-lymphocytosis-classification/\"\n",
    "compute_age = lambda x: 2024 - int(x.replace(\"-\", \"/\").split(\"/\")[-1])\n",
    "gender_to_int = lambda x: 1 if x.lower() == \"m\" else 0"
   ]
  },
  {
   "cell_type": "code",
   "execution_count": 3,
   "metadata": {},
   "outputs": [
    {
     "data": {
      "text/html": [
       "<div>\n",
       "<style scoped>\n",
       "    .dataframe tbody tr th:only-of-type {\n",
       "        vertical-align: middle;\n",
       "    }\n",
       "\n",
       "    .dataframe tbody tr th {\n",
       "        vertical-align: top;\n",
       "    }\n",
       "\n",
       "    .dataframe thead th {\n",
       "        text-align: right;\n",
       "    }\n",
       "</style>\n",
       "<table border=\"1\" class=\"dataframe\">\n",
       "  <thead>\n",
       "    <tr style=\"text-align: right;\">\n",
       "      <th></th>\n",
       "      <th>ID</th>\n",
       "      <th>LABEL</th>\n",
       "      <th>GENDER</th>\n",
       "      <th>DOB</th>\n",
       "      <th>LYMPH_COUNT</th>\n",
       "      <th>AGE</th>\n",
       "    </tr>\n",
       "  </thead>\n",
       "  <tbody>\n",
       "    <tr>\n",
       "      <th>0</th>\n",
       "      <td>P26</td>\n",
       "      <td>1</td>\n",
       "      <td>1</td>\n",
       "      <td>11/3/1933</td>\n",
       "      <td>11.2</td>\n",
       "      <td>91</td>\n",
       "    </tr>\n",
       "    <tr>\n",
       "      <th>1</th>\n",
       "      <td>P183</td>\n",
       "      <td>1</td>\n",
       "      <td>1</td>\n",
       "      <td>5/15/1942</td>\n",
       "      <td>12.8</td>\n",
       "      <td>82</td>\n",
       "    </tr>\n",
       "  </tbody>\n",
       "</table>\n",
       "</div>"
      ],
      "text/plain": [
       "     ID  LABEL  GENDER        DOB  LYMPH_COUNT  AGE\n",
       "0   P26      1       1  11/3/1933         11.2   91\n",
       "1  P183      1       1  5/15/1942         12.8   82"
      ]
     },
     "execution_count": 3,
     "metadata": {},
     "output_type": "execute_result"
    }
   ],
   "source": [
    "trainset_data_df = pd.read_csv(data_dir + \"trainset/trainset_true.csv\")\n",
    "trainset_data_df[\"AGE\"] = trainset_data_df[\"DOB\"].apply(compute_age)\n",
    "trainset_data_df[\"GENDER\"] = trainset_data_df[\"GENDER\"].apply(gender_to_int)\n",
    "trainset_data_df.head(2)"
   ]
  },
  {
   "cell_type": "code",
   "execution_count": 4,
   "metadata": {},
   "outputs": [
    {
     "data": {
      "text/html": [
       "<div>\n",
       "<style scoped>\n",
       "    .dataframe tbody tr th:only-of-type {\n",
       "        vertical-align: middle;\n",
       "    }\n",
       "\n",
       "    .dataframe tbody tr th {\n",
       "        vertical-align: top;\n",
       "    }\n",
       "\n",
       "    .dataframe thead th {\n",
       "        text-align: right;\n",
       "    }\n",
       "</style>\n",
       "<table border=\"1\" class=\"dataframe\">\n",
       "  <thead>\n",
       "    <tr style=\"text-align: right;\">\n",
       "      <th></th>\n",
       "      <th>ID</th>\n",
       "      <th>LABEL</th>\n",
       "      <th>GENDER</th>\n",
       "      <th>DOB</th>\n",
       "      <th>LYMPH_COUNT</th>\n",
       "      <th>AGE</th>\n",
       "    </tr>\n",
       "  </thead>\n",
       "  <tbody>\n",
       "    <tr>\n",
       "      <th>0</th>\n",
       "      <td>P71</td>\n",
       "      <td>-1</td>\n",
       "      <td>1</td>\n",
       "      <td>1/17/1946</td>\n",
       "      <td>5.76</td>\n",
       "      <td>78</td>\n",
       "    </tr>\n",
       "    <tr>\n",
       "      <th>1</th>\n",
       "      <td>P16</td>\n",
       "      <td>-1</td>\n",
       "      <td>1</td>\n",
       "      <td>3/5/1940</td>\n",
       "      <td>32.00</td>\n",
       "      <td>84</td>\n",
       "    </tr>\n",
       "  </tbody>\n",
       "</table>\n",
       "</div>"
      ],
      "text/plain": [
       "    ID  LABEL  GENDER        DOB  LYMPH_COUNT  AGE\n",
       "0  P71     -1       1  1/17/1946         5.76   78\n",
       "1  P16     -1       1   3/5/1940        32.00   84"
      ]
     },
     "execution_count": 4,
     "metadata": {},
     "output_type": "execute_result"
    }
   ],
   "source": [
    "testset_data_df = pd.read_csv(data_dir + \"testset/testset_data.csv\")\n",
    "testset_data_df[\"AGE\"] = testset_data_df[\"DOB\"].apply(compute_age)\n",
    "testset_data_df[\"GENDER\"] = testset_data_df[\"GENDER\"].apply(gender_to_int)\n",
    "testset_data_df.head(2)"
   ]
  },
  {
   "cell_type": "code",
   "execution_count": 5,
   "metadata": {},
   "outputs": [
    {
     "data": {
      "text/plain": [
       "((163, 3), (42, 3))"
      ]
     },
     "execution_count": 5,
     "metadata": {},
     "output_type": "execute_result"
    }
   ],
   "source": [
    "selected_columns = [\"GENDER\", \"LYMPH_COUNT\", \"AGE\"]\n",
    "X_train_val = trainset_data_df[selected_columns].to_numpy(dtype=np.float32)\n",
    "X_test = testset_data_df[selected_columns].to_numpy(dtype=np.float32)\n",
    "y_train_val = trainset_data_df[\"LABEL\"].to_numpy(dtype=int)\n",
    "X_train_val.shape, X_test.shape"
   ]
  },
  {
   "cell_type": "code",
   "execution_count": 6,
   "metadata": {},
   "outputs": [
    {
     "data": {
      "text/plain": [
       "((array([0, 1]), array([41, 81])), (array([0, 1]), array([ 9, 32])))"
      ]
     },
     "execution_count": 6,
     "metadata": {},
     "output_type": "execute_result"
    }
   ],
   "source": [
    "X_train, X_val, y_train, y_val = model_selection.train_test_split(X_train_val, y_train_val, train_size=0.75)\n",
    "np.unique(y_train, return_counts=True), np.unique(y_val, return_counts=True)"
   ]
  },
  {
   "cell_type": "code",
   "execution_count": 7,
   "metadata": {},
   "outputs": [],
   "source": [
    "def fit_evaluate(clf):\n",
    "    clf.fit(X_train, y_train)\n",
    "\n",
    "    y_pred = clf.predict(X_train)\n",
    "    train_acc = metrics.accuracy_score(y_train, y_pred)\n",
    "    train_balanced_acc = metrics.balanced_accuracy_score(y_train, y_pred)\n",
    "    train_f1_score = metrics.f1_score(y_train, y_pred)\n",
    "    print(f\"Train : acc = {train_acc:.3f} bal. acc = {train_balanced_acc:.3f} f1 = {train_f1_score:3f}\")\n",
    "\n",
    "    y_pred = clf.predict(X_val)\n",
    "    val_acc = metrics.accuracy_score(y_val, y_pred)\n",
    "    val_balanced_acc = metrics.balanced_accuracy_score(y_val, y_pred)\n",
    "    val_f1_score = metrics.f1_score(y_val, y_pred)\n",
    "    print(f\"Val : acc = {val_acc:.3f} bal. acc = {val_balanced_acc:.3f} f1 = {val_f1_score:3f}\")\n",
    "\n",
    "    return {\n",
    "        \"train\": {\"acc\": train_acc, \"bacc\": train_balanced_acc, \"f1\": train_f1_score},\n",
    "        \"val\": {\"acc\": val_acc, \"bacc\": val_balanced_acc, \"f1\": val_f1_score},\n",
    "    }"
   ]
  },
  {
   "cell_type": "markdown",
   "metadata": {},
   "source": [
    "### Decision Tree"
   ]
  },
  {
   "cell_type": "code",
   "execution_count": 8,
   "metadata": {},
   "outputs": [],
   "source": [
    "dt_params = {\n",
    "    \"criterion\": [\"gini\", \"entropy\", \"log_loss\"],\n",
    "    \"splitter\": [\"best\", \"random\"]\n",
    "}"
   ]
  },
  {
   "cell_type": "code",
   "execution_count": 9,
   "metadata": {},
   "outputs": [
    {
     "name": "stdout",
     "output_type": "stream",
     "text": [
      "{'criterion': 'gini', 'splitter': 'best'}\n",
      "Train : acc = 1.000 bal. acc = 1.000 f1 = 1.000000\n",
      "Val : acc = 0.829 bal. acc = 0.771 f1 = 0.888889\n",
      "--------------------------------------------------------------------------------\n",
      "{'criterion': 'gini', 'splitter': 'random'}\n",
      "Train : acc = 1.000 bal. acc = 1.000 f1 = 1.000000\n",
      "Val : acc = 0.805 bal. acc = 0.715 f1 = 0.875000\n",
      "--------------------------------------------------------------------------------\n",
      "{'criterion': 'entropy', 'splitter': 'best'}\n",
      "Train : acc = 1.000 bal. acc = 1.000 f1 = 1.000000\n",
      "Val : acc = 0.780 bal. acc = 0.780 f1 = 0.847458\n",
      "--------------------------------------------------------------------------------\n",
      "{'criterion': 'entropy', 'splitter': 'random'}\n",
      "Train : acc = 1.000 bal. acc = 1.000 f1 = 1.000000\n",
      "Val : acc = 0.805 bal. acc = 0.715 f1 = 0.875000\n",
      "--------------------------------------------------------------------------------\n",
      "{'criterion': 'log_loss', 'splitter': 'best'}\n",
      "Train : acc = 1.000 bal. acc = 1.000 f1 = 1.000000\n",
      "Val : acc = 0.805 bal. acc = 0.795 f1 = 0.866667\n",
      "--------------------------------------------------------------------------------\n",
      "{'criterion': 'log_loss', 'splitter': 'random'}\n",
      "Train : acc = 1.000 bal. acc = 1.000 f1 = 1.000000\n",
      "Val : acc = 0.732 bal. acc = 0.668 f1 = 0.819672\n",
      "--------------------------------------------------------------------------------\n"
     ]
    }
   ],
   "source": [
    "best_params = {}\n",
    "best_val_balanced_acc = 0\n",
    "\n",
    "for criterion in dt_params[\"criterion\"]:\n",
    "    for splitter in dt_params[\"splitter\"]:\n",
    "        params = dict(criterion=criterion, splitter=splitter)\n",
    "        dt = tree.DecisionTreeClassifier(\n",
    "            class_weight=\"balanced\", **params\n",
    "        )\n",
    "        print(params)\n",
    "        scores = fit_evaluate(dt)\n",
    "        if scores[\"val\"][\"bacc\"] > best_val_balanced_acc:\n",
    "            best_val_balanced_acc = scores[\"val\"][\"bacc\"] \n",
    "            best_params = params\n",
    "        print(\"-\" * 80)\n",
    "\n",
    "            "
   ]
  },
  {
   "cell_type": "code",
   "execution_count": 10,
   "metadata": {},
   "outputs": [
    {
     "name": "stdout",
     "output_type": "stream",
     "text": [
      "Best params: {'criterion': 'log_loss', 'splitter': 'best'}\n",
      "Best balanced acc: 0.7951388888888888\n"
     ]
    }
   ],
   "source": [
    "print(\"Best params:\", best_params)\n",
    "print(\"Best balanced acc:\", best_val_balanced_acc)"
   ]
  },
  {
   "cell_type": "code",
   "execution_count": 11,
   "metadata": {},
   "outputs": [
    {
     "name": "stdout",
     "output_type": "stream",
     "text": [
      "Train : acc = 1.00 bal. acc = 1.00\n"
     ]
    }
   ],
   "source": [
    "clf = tree.DecisionTreeClassifier(class_weight=\"balanced\", **best_params)\n",
    "clf.fit(X_train_val, y_train_val)\n",
    "y_pred = clf.predict(X_train_val)\n",
    "acc = metrics.accuracy_score(y_train_val, y_pred)\n",
    "balanced_acc = metrics.balanced_accuracy_score(y_train_val, y_pred)\n",
    "print(f\"Train : acc = {acc:.2f} bal. acc = {balanced_acc:.2f}\")"
   ]
  },
  {
   "cell_type": "code",
   "execution_count": 12,
   "metadata": {},
   "outputs": [
    {
     "data": {
      "text/html": [
       "<div>\n",
       "<style scoped>\n",
       "    .dataframe tbody tr th:only-of-type {\n",
       "        vertical-align: middle;\n",
       "    }\n",
       "\n",
       "    .dataframe tbody tr th {\n",
       "        vertical-align: top;\n",
       "    }\n",
       "\n",
       "    .dataframe thead th {\n",
       "        text-align: right;\n",
       "    }\n",
       "</style>\n",
       "<table border=\"1\" class=\"dataframe\">\n",
       "  <thead>\n",
       "    <tr style=\"text-align: right;\">\n",
       "      <th></th>\n",
       "      <th>Id</th>\n",
       "      <th>Predicted</th>\n",
       "    </tr>\n",
       "  </thead>\n",
       "  <tbody>\n",
       "    <tr>\n",
       "      <th>0</th>\n",
       "      <td>P71</td>\n",
       "      <td>0</td>\n",
       "    </tr>\n",
       "    <tr>\n",
       "      <th>1</th>\n",
       "      <td>P16</td>\n",
       "      <td>1</td>\n",
       "    </tr>\n",
       "    <tr>\n",
       "      <th>2</th>\n",
       "      <td>P114</td>\n",
       "      <td>1</td>\n",
       "    </tr>\n",
       "  </tbody>\n",
       "</table>\n",
       "</div>"
      ],
      "text/plain": [
       "     Id  Predicted\n",
       "0   P71          0\n",
       "1   P16          1\n",
       "2  P114          1"
      ]
     },
     "execution_count": 12,
     "metadata": {},
     "output_type": "execute_result"
    }
   ],
   "source": [
    "y_test_pred = clf.predict(X_test)\n",
    "submission_df = testset_data_df[[\"ID\"]]\n",
    "submission_df[\"LABEL\"] = y_test_pred\n",
    "submission_df = submission_df.rename({\"ID\": \"Id\", \"LABEL\": \"Predicted\"}, axis=1)\n",
    "submission_df.head(3)"
   ]
  },
  {
   "cell_type": "code",
   "execution_count": 13,
   "metadata": {},
   "outputs": [],
   "source": [
    "submission_df.to_csv(\"../../submissions/decision_tree.csv\", index=False)"
   ]
  },
  {
   "cell_type": "markdown",
   "metadata": {},
   "source": [
    "### Random Forest"
   ]
  },
  {
   "cell_type": "code",
   "execution_count": 14,
   "metadata": {},
   "outputs": [],
   "source": [
    "rf_params = {\n",
    "    \"criterion\": [\"gini\", \"entropy\", \"log_loss\"],\n",
    "    \"n_estimators\": [5, 10, 20, 30, 50, 100, 200, 500, 1000]\n",
    "}"
   ]
  },
  {
   "cell_type": "code",
   "execution_count": 15,
   "metadata": {},
   "outputs": [
    {
     "name": "stdout",
     "output_type": "stream",
     "text": [
      "{'criterion': 'gini', 'n_estimators': 5}\n",
      "Train : acc = 0.984 bal. acc = 0.982 f1 = 0.987654\n",
      "Val : acc = 0.829 bal. acc = 0.811 f1 = 0.885246\n",
      "--------------------------------------------------------------------------------\n",
      "{'criterion': 'gini', 'n_estimators': 10}\n",
      "Train : acc = 0.967 bal. acc = 0.969 f1 = 0.975000\n",
      "Val : acc = 0.780 bal. acc = 0.700 f1 = 0.857143\n",
      "--------------------------------------------------------------------------------\n",
      "{'criterion': 'gini', 'n_estimators': 20}\n",
      "Train : acc = 1.000 bal. acc = 1.000 f1 = 1.000000\n",
      "Val : acc = 0.878 bal. acc = 0.882 f1 = 0.918033\n",
      "--------------------------------------------------------------------------------\n",
      "{'criterion': 'gini', 'n_estimators': 30}\n",
      "Train : acc = 1.000 bal. acc = 1.000 f1 = 1.000000\n",
      "Val : acc = 0.829 bal. acc = 0.771 f1 = 0.888889\n",
      "--------------------------------------------------------------------------------\n",
      "{'criterion': 'gini', 'n_estimators': 50}\n",
      "Train : acc = 1.000 bal. acc = 1.000 f1 = 1.000000\n",
      "Val : acc = 0.854 bal. acc = 0.826 f1 = 0.903226\n",
      "--------------------------------------------------------------------------------\n",
      "{'criterion': 'gini', 'n_estimators': 100}\n",
      "Train : acc = 1.000 bal. acc = 1.000 f1 = 1.000000\n",
      "Val : acc = 0.829 bal. acc = 0.811 f1 = 0.885246\n",
      "--------------------------------------------------------------------------------\n",
      "{'criterion': 'gini', 'n_estimators': 200}\n",
      "Train : acc = 1.000 bal. acc = 1.000 f1 = 1.000000\n",
      "Val : acc = 0.854 bal. acc = 0.826 f1 = 0.903226\n",
      "--------------------------------------------------------------------------------\n",
      "{'criterion': 'gini', 'n_estimators': 500}\n",
      "Train : acc = 1.000 bal. acc = 1.000 f1 = 1.000000\n",
      "Val : acc = 0.854 bal. acc = 0.826 f1 = 0.903226\n",
      "--------------------------------------------------------------------------------\n",
      "{'criterion': 'gini', 'n_estimators': 1000}\n",
      "Train : acc = 1.000 bal. acc = 1.000 f1 = 1.000000\n",
      "Val : acc = 0.854 bal. acc = 0.826 f1 = 0.903226\n",
      "--------------------------------------------------------------------------------\n",
      "{'criterion': 'entropy', 'n_estimators': 5}\n",
      "Train : acc = 1.000 bal. acc = 1.000 f1 = 1.000000\n",
      "Val : acc = 0.707 bal. acc = 0.653 f1 = 0.800000\n",
      "--------------------------------------------------------------------------------\n",
      "{'criterion': 'entropy', 'n_estimators': 10}\n",
      "Train : acc = 1.000 bal. acc = 1.000 f1 = 1.000000\n",
      "Val : acc = 0.805 bal. acc = 0.715 f1 = 0.875000\n",
      "--------------------------------------------------------------------------------\n",
      "{'criterion': 'entropy', 'n_estimators': 20}\n",
      "Train : acc = 0.992 bal. acc = 0.994 f1 = 0.993789\n",
      "Val : acc = 0.829 bal. acc = 0.771 f1 = 0.888889\n",
      "--------------------------------------------------------------------------------\n",
      "{'criterion': 'entropy', 'n_estimators': 30}\n",
      "Train : acc = 1.000 bal. acc = 1.000 f1 = 1.000000\n",
      "Val : acc = 0.829 bal. acc = 0.811 f1 = 0.885246\n",
      "--------------------------------------------------------------------------------\n",
      "{'criterion': 'entropy', 'n_estimators': 50}\n",
      "Train : acc = 1.000 bal. acc = 1.000 f1 = 1.000000\n",
      "Val : acc = 0.805 bal. acc = 0.755 f1 = 0.870968\n",
      "--------------------------------------------------------------------------------\n",
      "{'criterion': 'entropy', 'n_estimators': 100}\n",
      "Train : acc = 1.000 bal. acc = 1.000 f1 = 1.000000\n",
      "Val : acc = 0.805 bal. acc = 0.755 f1 = 0.870968\n",
      "--------------------------------------------------------------------------------\n",
      "{'criterion': 'entropy', 'n_estimators': 200}\n",
      "Train : acc = 1.000 bal. acc = 1.000 f1 = 1.000000\n",
      "Val : acc = 0.805 bal. acc = 0.755 f1 = 0.870968\n",
      "--------------------------------------------------------------------------------\n",
      "{'criterion': 'entropy', 'n_estimators': 500}\n",
      "Train : acc = 1.000 bal. acc = 1.000 f1 = 1.000000\n",
      "Val : acc = 0.805 bal. acc = 0.715 f1 = 0.875000\n",
      "--------------------------------------------------------------------------------\n",
      "{'criterion': 'entropy', 'n_estimators': 1000}\n",
      "Train : acc = 1.000 bal. acc = 1.000 f1 = 1.000000\n",
      "Val : acc = 0.805 bal. acc = 0.715 f1 = 0.875000\n",
      "--------------------------------------------------------------------------------\n",
      "{'criterion': 'log_loss', 'n_estimators': 5}\n",
      "Train : acc = 0.975 bal. acc = 0.981 f1 = 0.981132\n",
      "Val : acc = 0.805 bal. acc = 0.875 f1 = 0.857143\n",
      "--------------------------------------------------------------------------------\n",
      "{'criterion': 'log_loss', 'n_estimators': 10}\n",
      "Train : acc = 0.984 bal. acc = 0.988 f1 = 0.987500\n",
      "Val : acc = 0.805 bal. acc = 0.795 f1 = 0.866667\n",
      "--------------------------------------------------------------------------------\n",
      "{'criterion': 'log_loss', 'n_estimators': 20}\n",
      "Train : acc = 1.000 bal. acc = 1.000 f1 = 1.000000\n",
      "Val : acc = 0.780 bal. acc = 0.700 f1 = 0.857143\n",
      "--------------------------------------------------------------------------------\n",
      "{'criterion': 'log_loss', 'n_estimators': 30}\n",
      "Train : acc = 0.992 bal. acc = 0.994 f1 = 0.993789\n",
      "Val : acc = 0.829 bal. acc = 0.771 f1 = 0.888889\n",
      "--------------------------------------------------------------------------------\n",
      "{'criterion': 'log_loss', 'n_estimators': 50}\n",
      "Train : acc = 1.000 bal. acc = 1.000 f1 = 1.000000\n",
      "Val : acc = 0.780 bal. acc = 0.700 f1 = 0.857143\n",
      "--------------------------------------------------------------------------------\n",
      "{'criterion': 'log_loss', 'n_estimators': 100}\n",
      "Train : acc = 1.000 bal. acc = 1.000 f1 = 1.000000\n",
      "Val : acc = 0.805 bal. acc = 0.715 f1 = 0.875000\n",
      "--------------------------------------------------------------------------------\n",
      "{'criterion': 'log_loss', 'n_estimators': 200}\n",
      "Train : acc = 1.000 bal. acc = 1.000 f1 = 1.000000\n",
      "Val : acc = 0.854 bal. acc = 0.826 f1 = 0.903226\n",
      "--------------------------------------------------------------------------------\n",
      "{'criterion': 'log_loss', 'n_estimators': 500}\n",
      "Train : acc = 1.000 bal. acc = 1.000 f1 = 1.000000\n",
      "Val : acc = 0.805 bal. acc = 0.755 f1 = 0.870968\n",
      "--------------------------------------------------------------------------------\n",
      "{'criterion': 'log_loss', 'n_estimators': 1000}\n",
      "Train : acc = 1.000 bal. acc = 1.000 f1 = 1.000000\n",
      "Val : acc = 0.829 bal. acc = 0.771 f1 = 0.888889\n",
      "--------------------------------------------------------------------------------\n"
     ]
    }
   ],
   "source": [
    "best_params = {}\n",
    "best_val_balanced_acc = 0\n",
    "\n",
    "for criterion in rf_params[\"criterion\"]:\n",
    "    for n_estimators in rf_params[\"n_estimators\"]:\n",
    "        params = dict(criterion=criterion, n_estimators=n_estimators)\n",
    "        rf = ensemble.RandomForestClassifier(\n",
    "            class_weight=\"balanced\", **params\n",
    "        )\n",
    "        print(params)\n",
    "        scores = fit_evaluate(rf)\n",
    "        if scores[\"val\"][\"bacc\"] > best_val_balanced_acc:\n",
    "            best_val_balanced_acc = scores[\"val\"][\"bacc\"] \n",
    "            best_params = params\n",
    "        print(\"-\" * 80)\n",
    "            "
   ]
  },
  {
   "cell_type": "code",
   "execution_count": 16,
   "metadata": {},
   "outputs": [
    {
     "name": "stdout",
     "output_type": "stream",
     "text": [
      "Best params: {'criterion': 'gini', 'n_estimators': 20}\n",
      "Best balanced acc: 0.8819444444444444\n"
     ]
    }
   ],
   "source": [
    "print(\"Best params:\", best_params)\n",
    "print(\"Best balanced acc:\", best_val_balanced_acc)"
   ]
  },
  {
   "cell_type": "code",
   "execution_count": 17,
   "metadata": {},
   "outputs": [
    {
     "name": "stdout",
     "output_type": "stream",
     "text": [
      "Train : acc = 1.00 bal. acc = 1.00\n"
     ]
    }
   ],
   "source": [
    "clf = ensemble.RandomForestClassifier(class_weight=\"balanced\", **best_params)\n",
    "clf.fit(X_train_val, y_train_val)\n",
    "y_pred = clf.predict(X_train_val)\n",
    "acc = metrics.accuracy_score(y_train_val, y_pred)\n",
    "balanced_acc = metrics.balanced_accuracy_score(y_train_val, y_pred)\n",
    "print(f\"Train : acc = {acc:.2f} bal. acc = {balanced_acc:.2f}\")"
   ]
  },
  {
   "cell_type": "code",
   "execution_count": 18,
   "metadata": {},
   "outputs": [
    {
     "data": {
      "text/html": [
       "<div>\n",
       "<style scoped>\n",
       "    .dataframe tbody tr th:only-of-type {\n",
       "        vertical-align: middle;\n",
       "    }\n",
       "\n",
       "    .dataframe tbody tr th {\n",
       "        vertical-align: top;\n",
       "    }\n",
       "\n",
       "    .dataframe thead th {\n",
       "        text-align: right;\n",
       "    }\n",
       "</style>\n",
       "<table border=\"1\" class=\"dataframe\">\n",
       "  <thead>\n",
       "    <tr style=\"text-align: right;\">\n",
       "      <th></th>\n",
       "      <th>Id</th>\n",
       "      <th>Predicted</th>\n",
       "    </tr>\n",
       "  </thead>\n",
       "  <tbody>\n",
       "    <tr>\n",
       "      <th>0</th>\n",
       "      <td>P71</td>\n",
       "      <td>0</td>\n",
       "    </tr>\n",
       "    <tr>\n",
       "      <th>1</th>\n",
       "      <td>P16</td>\n",
       "      <td>1</td>\n",
       "    </tr>\n",
       "    <tr>\n",
       "      <th>2</th>\n",
       "      <td>P114</td>\n",
       "      <td>1</td>\n",
       "    </tr>\n",
       "  </tbody>\n",
       "</table>\n",
       "</div>"
      ],
      "text/plain": [
       "     Id  Predicted\n",
       "0   P71          0\n",
       "1   P16          1\n",
       "2  P114          1"
      ]
     },
     "execution_count": 18,
     "metadata": {},
     "output_type": "execute_result"
    }
   ],
   "source": [
    "y_test_pred = clf.predict(X_test)\n",
    "submission_df = testset_data_df[[\"ID\"]]\n",
    "submission_df[\"LABEL\"] = y_test_pred\n",
    "submission_df = submission_df.rename({\"ID\": \"Id\", \"LABEL\": \"Predicted\"}, axis=1)\n",
    "submission_df.head(3)"
   ]
  },
  {
   "cell_type": "code",
   "execution_count": 19,
   "metadata": {},
   "outputs": [],
   "source": [
    "submission_df.to_csv(\"../../submissions/random_forest.csv\", index=False)"
   ]
  }
 ],
 "metadata": {
  "kernelspec": {
   "display_name": "Python 3.11.0 64-bit",
   "language": "python",
   "name": "python3"
  },
  "language_info": {
   "codemirror_mode": {
    "name": "ipython",
    "version": 3
   },
   "file_extension": ".py",
   "mimetype": "text/x-python",
   "name": "python",
   "nbconvert_exporter": "python",
   "pygments_lexer": "ipython3",
   "version": "3.11.0"
  },
  "orig_nbformat": 4,
  "vscode": {
   "interpreter": {
    "hash": "aee8b7b246df8f9039afb4144a1f6fd8d2ca17a180786b69acc140d282b71a49"
   }
  }
 },
 "nbformat": 4,
 "nbformat_minor": 2
}
